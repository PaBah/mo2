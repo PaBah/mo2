{
 "cells": [
  {
   "cell_type": "code",
   "execution_count": 1,
   "metadata": {},
   "outputs": [],
   "source": [
    "train_batch_size = 64\n",
    "val_batch_size = 32\n",
    "num_workers = 4\n",
    "\n",
    "num_epochs = 40\n",
    "\n",
    "size_image = (128, 128)\n",
    "\n",
    "learning_rate = 0.001\n",
    "\n",
    "log_dir = './logs'\n",
    "train_dir = '/home/paulbahush/bsuir_ml_part2/data/dogs-vs-cats/train'\n",
    "test_dir = '/home/paulbahush/bsuir_ml_part2/data/dogs-vs-cats/test1'"
   ]
  },
  {
   "cell_type": "code",
   "execution_count": 2,
   "metadata": {},
   "outputs": [],
   "source": [
    "import pandas as pd\n",
    "import os\n",
    "import torch\n",
    "from torch.utils.tensorboard import SummaryWriter"
   ]
  },
  {
   "cell_type": "code",
   "execution_count": 3,
   "metadata": {},
   "outputs": [
    {
     "name": "stdout",
     "output_type": "stream",
     "text": [
      "Running on the GPU\n"
     ]
    }
   ],
   "source": [
    "if torch.cuda.is_available():\n",
    "    device = torch.device(\"cuda:0\")\n",
    "    print(\"Running\")\n",
    "else:\n",
    "    device = torch.device(\"cpu\")\n",
    "    print(\"Running\")"
   ]
  },
  {
   "cell_type": "markdown",
   "metadata": {},
   "source": [
    "### Задание 1.\n",
    "#### Загрузите данные. Разделите исходный набор данных на обучающую, валидационную и контрольную выборки.\n"
   ]
  },
  {
   "cell_type": "code",
   "execution_count": 4,
   "metadata": {},
   "outputs": [],
   "source": [
    "files_labels = {os.path.join(train_dir, file_name): 0 if 'cat' in file_name else 1 \n",
    "              for file_name in os.listdir(train_dir)}\n",
    "data = pd.DataFrame.from_dict({'image_file': list(files_labels.keys()), 'label': list(files_labels.values())})"
   ]
  },
  {
   "cell_type": "code",
   "execution_count": 5,
   "metadata": {},
   "outputs": [],
   "source": [
    "from sklearn.model_selection import train_test_split\n",
    "\n",
    "train_data, test_data = train_test_split(data, test_size=0.2)\n",
    "test_data, val_data = train_test_split(test_data, test_size=0.25)"
   ]
  },
  {
   "cell_type": "markdown",
   "metadata": {},
   "source": [
    "### Задание 2.\n",
    "#### Реализуйте глубокую нейронную сеть с как минимум тремя сверточными слоями. Какое качество классификации получено?"
   ]
  },
  {
   "cell_type": "code",
   "execution_count": 6,
   "metadata": {},
   "outputs": [],
   "source": [
    "from torch.utils.data import DataLoader\n",
    "from torchvision import transforms\n",
    "\n",
    "\n",
    "from torch.utils.data import Dataset\n",
    "import numpy as np\n",
    "from PIL import Image\n",
    "\n",
    "\n",
    "class DogCatDataset(Dataset):\n",
    "    def __init__(self, data, transforms=None):\n",
    "        self.data = data\n",
    "        self.transforms = transforms\n",
    "\n",
    "    def __len__(self):\n",
    "        return len(self.data)\n",
    "\n",
    "    def __getitem__(self, idx):\n",
    "        label = self.data.iloc[idx, 1]\n",
    "        image_file = self.data.iloc[idx, 0]\n",
    "\n",
    "        image  = Image.open(image_file)\n",
    "\n",
    "        if self.transforms:\n",
    "            image = self.transforms(np.uint8(image))\n",
    "        else:\n",
    "            image = image.astype(np.float32)\n",
    "\n",
    "        return image, label\n",
    "\n",
    "\n",
    "tfms = transforms.Compose([\n",
    "    transforms.ToPILImage(),\n",
    "    transforms.Resize(size_image),\n",
    "    transforms.ToTensor()\n",
    "])\n",
    "train_dataset = DogCatDataset(train_data, transforms=tfms)\n",
    "train_loader = DataLoader(train_dataset, num_workers=num_workers, batch_size=train_batch_size, shuffle=True)\n",
    "\n",
    "val_tfms = transforms.Compose([\n",
    "    transforms.ToPILImage(),\n",
    "    transforms.Resize(size_image),\n",
    "    transforms.ToTensor()\n",
    "])\n",
    "val_dataset = DogCatDataset(val_data, transforms=val_tfms)\n",
    "val_loader = DataLoader(val_dataset, num_workers=num_workers, batch_size=val_batch_size, shuffle=False)\n",
    "\n",
    "test_tfms = transforms.Compose([\n",
    "    transforms.ToPILImage(),\n",
    "    transforms.Resize(size_image),\n",
    "    transforms.ToTensor()\n",
    "])\n",
    "test_dataset = DogCatDataset(test_data, transforms=test_tfms)\n",
    "test_loader = DataLoader(test_dataset, num_workers=num_workers, batch_size=val_batch_size, shuffle=False)"
   ]
  },
  {
   "cell_type": "code",
   "execution_count": 7,
   "metadata": {},
   "outputs": [],
   "source": [
    "import torch.nn as nn\n",
    "from torch.optim import lr_scheduler\n",
    "import torch.nn as nn\n",
    "\n",
    "\n",
    "class CNNModel(nn.Module):\n",
    "    def __init__(self):\n",
    "        super(CNNModel, self).__init__()\n",
    "\n",
    "        self.cnn1 = nn.Conv2d(in_channels=3, out_channels=16, kernel_size=5, stride=1, padding=2)\n",
    "        self.relu1 = nn.ReLU()\n",
    "\n",
    "        self.maxpool1 = nn.MaxPool2d(kernel_size=2)\n",
    "\n",
    "        self.cnn2 = nn.Conv2d(in_channels=16, out_channels=32, kernel_size=5, stride=1, padding=2)\n",
    "        self.relu2 = nn.ReLU()\n",
    "\n",
    "        self.maxpool2 = nn.MaxPool2d(kernel_size=2)\n",
    "\n",
    "        self.cnn3 = nn.Conv2d(in_channels=32, out_channels=16, kernel_size=5, stride=1, padding=2)\n",
    "        self.relu3 = nn.ReLU()\n",
    "\n",
    "        self.maxpool3 = nn.MaxPool2d(kernel_size=2)\n",
    "\n",
    "        self.fc_preout = nn.Linear(4096, 100)\n",
    "        self.fc = nn.Linear(100, 2)\n",
    "\n",
    "    def forward(self, x):\n",
    "        out = self.cnn1(x)\n",
    "        out = self.relu1(out)\n",
    "\n",
    "        out = self.maxpool1(out)\n",
    "\n",
    "        out = self.cnn2(out)\n",
    "        out = self.relu2(out)\n",
    "\n",
    "        out = self.maxpool2(out)\n",
    "\n",
    "        out = self.cnn3(out)\n",
    "        out = self.relu3(out)\n",
    "\n",
    "        out = self.maxpool3(out)\n",
    "\n",
    "        out = out.view(out.size(0), -1)\n",
    "\n",
    "        out = self.fc_preout(out)\n",
    "        out = self.fc(out)\n",
    "\n",
    "        return out\n",
    "\n",
    "model = CNNModel()\n",
    "model = model.to(device)\n",
    "criterion = nn.CrossEntropyLoss()\n",
    "\n",
    "optimizer = torch.optim.AdamW(model.parameters(), lr=learning_rate)\n",
    "\n",
    "exp_lr_scheduler = lr_scheduler.CosineAnnealingLR(optimizer, 30)"
   ]
  },
  {
   "cell_type": "code",
   "execution_count": 8,
   "metadata": {},
   "outputs": [
    {
     "name": "stderr",
     "output_type": "stream",
     "text": [
      "100%|██████████| 40/40 [12:43<00:00, 19.09s/it]\n"
     ]
    }
   ],
   "source": [
    "def train(model, train_loader, test_loader, num_epochs,\n",
    "    optimizer, criterion, logs_writer, scheduler, device):\n",
    "    for epoch in tqdm(range(num_epochs)):\n",
    "\n",
    "        for i, (images, labels) in enumerate(train_loader):\n",
    "\n",
    "            images = images.to(device)\n",
    "            labels = labels.to(device)\n",
    "\n",
    "            outputs = model(images)\n",
    "            loss = criterion(outputs, labels)\n",
    "\n",
    "            optimizer.zero_grad()\n",
    "            loss.backward()\n",
    "            optimizer.step()\n",
    "            scheduler.step()\n",
    "\n",
    "            logs_writer.add_scalar('Itearation Loss/train', loss, epoch*len(train_loader) + i)\n",
    "\n",
    "        accuracy = calculate_accuracy(model, test_loader, device)\n",
    "        logs_writer.add_scalar('Accuracy/train', accuracy, epoch)\n",
    "        logs_writer.add_scalar('Learning rate', np.array(scheduler.get_lr()), epoch)\n",
    "\n",
    "train(model, train_loader, test_loader, num_epochs, \n",
    "    optimizer, criterion, logs_writer, exp_lr_scheduler, device)"
   ]
  },
  {
   "cell_type": "markdown",
   "metadata": {},
   "source": [
    "### Задание 3.\n",
    "#### Примените дополнение данных (data augmentation). Как это повлияло на качество классификатора?"
   ]
  },
  {
   "cell_type": "code",
   "execution_count": 9,
   "metadata": {},
   "outputs": [],
   "source": [
    "from torch.utils.data import DataLoader\n",
    "from torchvision import transforms\n",
    "\n",
    "\n",
    "tfms = transforms.Compose([\n",
    "        transforms.ToPILImage(mode=None),\n",
    "        transforms.Resize(size_image),\n",
    "        transforms.RandomHorizontalFlip(p=0.5),\n",
    "        transforms.RandomPerspective(distortion_scale=0.5, p=0.5, interpolation=3),\n",
    "        transforms.ToTensor(),\n",
    "    ])\n",
    "\n",
    "train_dataset = DogCatDataset(train_data, transforms=tfms)\n",
    "train_loader = DataLoader(train_dataset, num_workers=num_workers, batch_size=train_batch_size, shuffle=True)"
   ]
  },
  {
   "cell_type": "code",
   "execution_count": 10,
   "metadata": {},
   "outputs": [],
   "source": [
    "import torch.nn as nn\n",
    "\n",
    "\n",
    "model = CNNModel()\n",
    "criterion = nn.CrossEntropyLoss()\n",
    "\n",
    "model = model.to(device)\n",
    "\n",
    "optimizer = torch.optim.AdamW(model.parameters(), lr=learning_rate)\n",
    "\n",
    "exp_lr_scheduler = lr_scheduler.CosineAnnealingLR(optimizer, 30)"
   ]
  },
  {
   "cell_type": "code",
   "execution_count": 11,
   "metadata": {},
   "outputs": [
    {
     "name": "stderr",
     "output_type": "stream",
     "text": [
      "100%|██████████| 40/40 [14:06<00:00, 21.17s/it]\n"
     ]
    }
   ],
   "source": [
    "\n",
    "train(model, train_loader, test_loader, num_epochs, \n",
    "    optimizer, criterion, logs_writer, exp_lr_scheduler, device)"
   ]
  },
  {
   "cell_type": "markdown",
   "metadata": {},
   "source": [
    "### Задание 4.\n",
    "#### Поэкспериментируйте с готовыми нейронными сетями (например, AlexNet, VGG16, Inception и т.п.), применив передаточное обучение. Как это повлияло на качество классификатора? Можно ли было обойтись без него? Какой максимальный результат удалось получить на контрольной выборке?\n"
   ]
  },
  {
   "cell_type": "code",
   "execution_count": 12,
   "metadata": {},
   "outputs": [],
   "source": [
    "from torch.utils.data import DataLoader\n",
    "from torchvision import transforms\n",
    "\n",
    "\n",
    "tfms = transforms.Compose([\n",
    "        transforms.ToPILImage(mode=None),\n",
    "        transforms.Resize(size_image),\n",
    "        transforms.RandomHorizontalFlip(p=0.5),\n",
    "        transforms.RandomPerspective(distortion_scale=0.5, p=0.5, interpolation=3),\n",
    "        transforms.ToTensor(),\n",
    "    ])\n",
    "\n",
    "train_dataset = DogCatDataset(train_data, transforms=tfms)\n",
    "train_loader = DataLoader(train_dataset, num_workers=num_workers, batch_size=train_batch_size, shuffle=True)"
   ]
  },
  {
   "cell_type": "code",
   "execution_count": 13,
   "metadata": {},
   "outputs": [],
   "source": [
    "from torchvision import models\n",
    "from torch.optim import lr_scheduler\n",
    "\n",
    "model = models.resnet18(pretrained=True)\n",
    "num_ftrs = model.fc.in_features\n",
    "model.fc = nn.Linear(num_ftrs, 2)\n",
    "\n",
    "model = model.to(device)\n",
    "\n",
    "criterion = nn.CrossEntropyLoss()\n",
    "\n",
    "optimizer = torch.optim.AdamW(model.parameters(), lr=learning_rate)\n",
    "\n",
    "exp_lr_scheduler = lr_scheduler.CosineAnnealingLR(optimizer, 30)\n"
   ]
  },
  {
   "cell_type": "code",
   "execution_count": 14,
   "metadata": {},
   "outputs": [
    {
     "name": "stderr",
     "output_type": "stream",
     "text": [
      "100%|██████████| 40/40 [14:27<00:00, 21.69s/it]\n"
     ]
    }
   ],
   "source": [
    "train(model, train_loader, val_loader, num_epochs,\n",
    "    optimizer, criterion, logs_writer, exp_lr_scheduler, device)"
   ]
  },
  {
   "cell_type": "code",
   "execution_count": 15,
   "metadata": {},
   "outputs": [],
   "source": [
    "from torchvision import models\n",
    "from torch.optim import lr_scheduler\n",
    "\n",
    "model = models.resnet50(pretrained=True)\n",
    "num_ftrs = model.fc.in_features\n",
    "model.fc = nn.Linear(num_ftrs, 2)\n",
    "\n",
    "model = model.to(device)\n",
    "\n",
    "criterion = nn.CrossEntropyLoss()\n",
    "\n",
    "optimizer = torch.optim.AdamW(model.parameters(), lr=learning_rate)\n",
    "\n",
    "exp_lr_scheduler = lr_scheduler.CosineAnnealingLR(optimizer, 30)\n"
   ]
  },
  {
   "cell_type": "code",
   "execution_count": 16,
   "metadata": {},
   "outputs": [
    {
     "name": "stderr",
     "output_type": "stream",
     "text": [
      "100%|██████████| 40/40 [38:19<00:00, 57.48s/it]\n"
     ]
    }
   ],
   "source": [
    "\n",
    "train(model, train_loader, val_loader, num_epochs, \n",
    "    optimizer, criterion, logs_writer, exp_lr_scheduler, device)"
   ]
  },
  {
   "cell_type": "code",
   "execution_count": null,
   "metadata": {},
   "outputs": [],
   "source": []
  }
 ],
 "metadata": {
  "kernelspec": {
   "display_name": "Python 3",
   "language": "python",
   "name": "python3"
  },
  "language_info": {
   "codemirror_mode": {
    "name": "ipython",
    "version": 3
   },
   "file_extension": ".py",
   "mimetype": "text/x-python",
   "name": "python",
   "nbconvert_exporter": "python",
   "pygments_lexer": "ipython3",
   "version": "3.7.3"
  }
 },
 "nbformat": 4,
 "nbformat_minor": 2
}