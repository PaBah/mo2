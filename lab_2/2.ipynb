{
 "cells": [
  {
   "cell_type": "code",
   "execution_count": 1,
   "metadata": {},
   "outputs": [
    {
     "name": "stdout",
     "output_type": "stream",
     "text": [
      "../data/notMNIST_large.tar.gz\n",
      "File already exists.\n",
      "Extracted.\n"
     ]
    }
   ],
   "source": [
    "from download_dataset import download, extract\n",
    "\n",
    "download()\n",
    "extract('~/paulbahush/data/notMNIST_small.tar.gz')\n",
    "\n",
    "root_path = '~/paulbahush/data/notMNIST_small'\n",
    "dataset_url = 'https://commondatastorage.googleapis.com/books1000/notMNIST_large.tar.gz'\n",
    "\n",
    "\n",
    "image_size = 28\n",
    "pixel_depth = 255.0\n",
    "\n",
    "train_percentage = 0.8\n",
    "test_percentage = 0.2"
   ]
  },
  {
   "cell_type": "code",
   "execution_count": 2,
   "metadata": {},
   "outputs": [
    {
     "name": "stderr",
     "output_type": "stream",
     "text": [
      "100%|██████████| 1873/1873 [00:00<00:00, 17636.66it/s]\n",
      "100%|██████████| 1873/1873 [00:00<00:00, 18453.59it/s]\n",
      "100%|██████████| 1872/1872 [00:00<00:00, 18864.80it/s]\n",
      "100%|██████████| 1872/1872 [00:00<00:00, 19909.52it/s]\n",
      "100%|██████████| 1872/1872 [00:00<00:00, 18063.01it/s]\n",
      "100%|██████████| 1872/1872 [00:00<00:00, 17753.59it/s]\n",
      "100%|██████████| 1873/1873 [00:00<00:00, 18009.48it/s]\n",
      "100%|██████████| 1873/1873 [00:00<00:00, 17655.41it/s]\n",
      "100%|██████████| 1873/1873 [00:00<00:00, 18079.56it/s]\n",
      "100%|██████████| 1873/1873 [00:00<00:00, 18010.18it/s]\n"
     ]
    }
   ],
   "source": [
    "import os\n",
    "import numpy as np\n",
    "from tqdm import tqdm\n",
    "import matplotlib.pyplot as plt\n",
    "\n",
    "classes_statistic = {}\n",
    "\n",
    "for class_dir in os.listdir(root_path):\n",
    "    class_path = os.path.join(root_path, class_dir)\n",
    "    classes_statistic[class_dir] = len([name for name in os.listdir(class_path)])\n",
    "    \n",
    "total_count = sum(classes_statistic.values())\n",
    "train_size = int(total_count * train_percentage)\n",
    "test_size = int(total_count * test_percentage)\n",
    "\n",
    "X = []\n",
    "y = []\n",
    "\n",
    "dirs = os.listdir(root_path)\n",
    "\n",
    "label_dict = {}\n",
    "\n",
    "counter = 0\n",
    "\n",
    "for id_class, dir_class in enumerate(dirs):\n",
    "    label_dict[id_class] = dir_class\n",
    "    for image in tqdm(os.listdir(os.path.join(root_path, dir_class))):\n",
    "        try:\n",
    "            X.append(plt.imread(os.path.join(root_path, dir_class, image)).reshape(-1, image_size * image_size)[0])\n",
    "            y.append(id_class)\n",
    "            counter += 1\n",
    "        except:\n",
    "            continue\n",
    "\n",
    "mu = np.mean(X)\n",
    "std = np.std(X)\n",
    "\n",
    "\n",
    "from sklearn.model_selection import train_test_split\n",
    "\n",
    "X_train, X_test, y_train, y_test = train_test_split(X, y, test_size=0.2, train_size=0.8)"
   ]
  },
  {
   "cell_type": "code",
   "metadata": {
    "pycharm": {
     "name": "#%%\n"
    }
   },
   "source": [
    "import torch\n",
    "import torch.nn as nn\n",
    "import torch.nn.functional as F\n",
    "import torch.optim as optim"
   ],
   "execution_count": null,
   "outputs": []
  },
  {
   "cell_type": "code",
   "execution_count": 4,
   "metadata": {},
   "outputs": [
    {
     "name": "stdout",
     "output_type": "stream",
     "text": [
      "Running on the GPU\n"
     ]
    }
   ],
   "source": [
    "if torch.cuda.is_available():\n",
    "    device = torch.device(\"cuda:0\")\n",
    "    print(\"Running\")\n",
    "else:\n",
    "    device = torch.device(\"cpu\")\n",
    "    print(\"Running\")\n",
    "\n",
    "\n",
    "input_size = 784\n",
    "output_size = 10\n",
    "hidden_sizes = [1200, 1200, 1200, 400, 100]\n",
    "\n",
    "epochs = 400\n",
    "batch_size = 512\n",
    "learning_rate = 1e-3"
   ]
  },
  {
   "cell_type": "markdown",
   "metadata": {},
   "source": [
    "### Задание 1.\n",
    "#### Реализуйте полносвязную нейронную сеть с помощью библиотеки Tensor Flow. В качестве алгоритма оптимизации можно использовать, например, стохастический градиент (Stochastic Gradient Descent, SGD). Определите количество скрытых слоев от 1 до 5, количество нейронов в каждом из слоев до нескольких сотен, а также их функции активации (кусочно-линейная, сигмоидная, гиперболический тангенс и т.д.)."
   ]
  },
  {
   "cell_type": "code",
   "execution_count": 13,
   "metadata": {},
   "outputs": [
    {
     "data": {
      "text/plain": [
       "Network(\n",
       "  (l1): Linear(in_features=784, out_features=1200, bias=True)\n",
       "  (relu1): LeakyReLU(negative_slope=0.01)\n",
       "  (l2): Linear(in_features=1200, out_features=1200, bias=True)\n",
       "  (relu2): LeakyReLU(negative_slope=0.01)\n",
       "  (l3): Linear(in_features=1200, out_features=1200, bias=True)\n",
       "  (relu3): LeakyReLU(negative_slope=0.01)\n",
       "  (l4): Linear(in_features=1200, out_features=400, bias=True)\n",
       "  (relu4): LeakyReLU(negative_slope=0.01)\n",
       "  (l5): Linear(in_features=400, out_features=100, bias=True)\n",
       "  (relu5): LeakyReLU(negative_slope=0.01)\n",
       "  (l6): Linear(in_features=100, out_features=10, bias=True)\n",
       ")"
      ]
     },
     "execution_count": 13,
     "metadata": {},
     "output_type": "execute_result"
    }
   ],
   "source": [
    "class Network(nn.Module):\n",
    "    \n",
    "    def __init__(self):\n",
    "        super(Network, self).__init__()\n",
    "        self.l1 = nn.Linear(input_size, hidden_sizes[0])\n",
    "        self.relu1 = nn.LeakyReLU()\n",
    "        self.l2 = nn.Linear(hidden_sizes[0], hidden_sizes[1])\n",
    "        self.relu2 = nn.LeakyReLU()\n",
    "        self.l3 = nn.Linear(hidden_sizes[1], hidden_sizes[2])\n",
    "        self.relu3 = nn.LeakyReLU()\n",
    "        self.l4 = nn.Linear(hidden_sizes[2], hidden_sizes[3])\n",
    "        self.relu4 = nn.LeakyReLU()\n",
    "        self.l5 = nn.Linear(hidden_sizes[3], hidden_sizes[4])\n",
    "        self.relu5 = nn.LeakyReLU()\n",
    "        self.l6 = nn.Linear(hidden_sizes[4], output_size)\n",
    "        \n",
    "    def forward(self, x):\n",
    "        x = self.l1(x)\n",
    "        x = self.relu1(x)\n",
    "        x = self.l2(x)\n",
    "        x = self.relu2(x)\n",
    "        x = self.l3(x)\n",
    "        x = self.relu3(x)\n",
    "        x = self.l4(x)\n",
    "        x = self.relu4(x)\n",
    "        x = self.l5(x)\n",
    "        x = self.relu5(x)\n",
    "        x = self.l6(x)\n",
    "        return F.log_softmax(x)\n",
    "\n",
    "net = Network()\n",
    "net.to(device)"
   ]
  },
  {
   "cell_type": "code",
   "execution_count": 14,
   "metadata": {},
   "outputs": [],
   "source": [
    "optimizer = optim.Adagrad(net.parameters(), lr=learning_rate)\n",
    "loss_function = nn.CrossEntropyLoss()"
   ]
  },
  {
   "cell_type": "code",
   "execution_count": 15,
   "metadata": {},
   "outputs": [],
   "source": [
    "x = torch.FloatTensor(X_train)\n",
    "y = torch.LongTensor(y_train)"
   ]
  },
  {
   "cell_type": "code",
   "execution_count": 16,
   "metadata": {},
   "outputs": [
    {
     "name": "stderr",
     "output_type": "stream",
     "text": [
      "/home/a_stasiuk/anaconda3/lib/python3.7/site-packages/ipykernel_launcher.py:29: UserWarning: Implicit dimension choice for log_softmax has been deprecated. Change the call to include dim=X as an argument.\n"
     ]
    },
    {
     "name": "stdout",
     "output_type": "stream",
     "text": [
      "Epoch: 0 - Loss: 0.787878\n",
      "Epoch: 10 - Loss: 0.293669\n",
      "Epoch: 20 - Loss: 0.227287\n",
      "Epoch: 30 - Loss: 0.175650\n",
      "Epoch: 40 - Loss: 0.130496\n",
      "Epoch: 50 - Loss: 0.094426\n",
      "Epoch: 60 - Loss: 0.075361\n",
      "Epoch: 70 - Loss: 0.054088\n",
      "Epoch: 80 - Loss: 0.040751\n",
      "Epoch: 90 - Loss: 0.030041\n",
      "Epoch: 100 - Loss: 0.021447\n",
      "Epoch: 110 - Loss: 0.015683\n",
      "Epoch: 120 - Loss: 0.012036\n",
      "Epoch: 130 - Loss: 0.009328\n",
      "Epoch: 140 - Loss: 0.007352\n",
      "Epoch: 150 - Loss: 0.005923\n",
      "Epoch: 160 - Loss: 0.004872\n",
      "Epoch: 170 - Loss: 0.004086\n",
      "Epoch: 180 - Loss: 0.003472\n",
      "Epoch: 190 - Loss: 0.002999\n",
      "Epoch: 200 - Loss: 0.002632\n",
      "Epoch: 210 - Loss: 0.002344\n",
      "Epoch: 220 - Loss: 0.002106\n",
      "Epoch: 230 - Loss: 0.001921\n",
      "Epoch: 240 - Loss: 0.001763\n",
      "Epoch: 250 - Loss: 0.001619\n",
      "Epoch: 260 - Loss: 0.001500\n",
      "Epoch: 270 - Loss: 0.001392\n",
      "Epoch: 280 - Loss: 0.001299\n",
      "Epoch: 290 - Loss: 0.001213\n",
      "Epoch: 300 - Loss: 0.001138\n",
      "Epoch: 310 - Loss: 0.001070\n",
      "Epoch: 320 - Loss: 0.001007\n",
      "Epoch: 330 - Loss: 0.000954\n",
      "Epoch: 340 - Loss: 0.000900\n",
      "Epoch: 350 - Loss: 0.000858\n",
      "Epoch: 360 - Loss: 0.000817\n",
      "Epoch: 370 - Loss: 0.000777\n",
      "Epoch: 380 - Loss: 0.000742\n",
      "Epoch: 390 - Loss: 0.000710\n"
     ]
    }
   ],
   "source": [
    "for e in range(epochs):\n",
    "        \n",
    "    for i in range(0, x.shape[0]-batch_size, batch_size):\n",
    "\n",
    "        x_mini = x[i:i + batch_size] \n",
    "        y_mini = y[i:i + batch_size] \n",
    "\n",
    "        x_var, y_var = x_mini.to(device), y_mini.to(device)\n",
    "        \n",
    "        optimizer.zero_grad()\n",
    "        net_out = net(x_var)\n",
    "        \n",
    "        loss = loss_function(net_out, y_var)\n",
    "        loss.backward()\n",
    "        optimizer.step()\n",
    "\n",
    "    if e % 10 == 0:    \n",
    "        print('Epoch: {} - Loss: {:.6f}'.format(e, loss.data))"
   ]
  },
  {
   "cell_type": "code",
   "execution_count": 22,
   "metadata": {},
   "outputs": [
    {
     "data": {
      "text/plain": [
       "[<matplotlib.lines.Line2D at 0x7f8be1269fd0>]"
      ]
     },
     "execution_count": 22,
     "metadata": {},
     "output_type": "execute_result"
    },
    {
     "data": {
      "image/png": "[encoded data removed]",
      "text/plain": [
       "<Figure size 720x576 with 1 Axes>"
      ]
     },
     "metadata": {
      "needs_background": "light"
     },
     "output_type": "display_data"
    }
   ],
   "source": [
    "plt.figure(figsize=(10,8))\n"
   ]
  },
  {
   "cell_type": "code",
   "execution_count": 23,
   "metadata": {},
   "outputs": [
    {
     "data": {
      "text/plain": [
       "Network(\n",
       "  (l1): Linear(in_features=784, out_features=1200, bias=True)\n",
       "  (relu1): LeakyReLU(negative_slope=0.01)\n",
       "  (l2): Linear(in_features=1200, out_features=1200, bias=True)\n",
       "  (relu2): LeakyReLU(negative_slope=0.01)\n",
       "  (l3): Linear(in_features=1200, out_features=1200, bias=True)\n",
       "  (relu3): LeakyReLU(negative_slope=0.01)\n",
       "  (l4): Linear(in_features=1200, out_features=400, bias=True)\n",
       "  (relu4): LeakyReLU(negative_slope=0.01)\n",
       "  (l5): Linear(in_features=400, out_features=100, bias=True)\n",
       "  (relu5): LeakyReLU(negative_slope=0.01)\n",
       "  (l6): Linear(in_features=100, out_features=10, bias=True)\n",
       ")"
      ]
     },
     "execution_count": 23,
     "metadata": {},
     "output_type": "execute_result"
    }
   ],
   "source": [
    "net.eval()"
   ]
  },
  {
   "cell_type": "code",
   "execution_count": 24,
   "metadata": {},
   "outputs": [],
   "source": [
    "test = torch.FloatTensor(X_test)\n",
    "test_var = test.to(device)\n"
   ]
  },
  {
   "cell_type": "code",
   "execution_count": 25,
   "metadata": {},
   "outputs": [
    {
     "name": "stderr",
     "output_type": "stream",
     "text": [
      "/home/a_stasiuk/anaconda3/lib/python3.7/site-packages/ipykernel_launcher.py:29: UserWarning: Implicit dimension choice for log_softmax has been deprecated. Change the call to include dim=X as an argument.\n"
     ]
    }
   ],
   "source": [
    "net_out = net(test_var)\n",
    "\n",
    "max_value, max_index = torch.max(net_out, 1)\n",
    "\n",
    "y_pred = max_index.tolist()"
   ]
  },
  {
   "cell_type": "code",
   "execution_count": 26,
   "metadata": {},
   "outputs": [
    {
     "data": {
      "text/plain": [
       "0.9156208277703605"
      ]
     },
     "execution_count": 26,
     "metadata": {},
     "output_type": "execute_result"
    }
   ],
   "source": [
    "from sklearn.metrics import accuracy_score\n",
    "test_score = accuracy_score(y_pred, y_test)\n",
    "test_score"
   ]
  },
  {
   "cell_type": "markdown",
   "metadata": {},
   "source": [
    "### Задание 3.\n",
    "#### Используйте регуляризацию и метод сброса нейронов (dropout) для борьбы с переобучением. Как улучшилось качество классификации?"
   ]
  },
  {
   "cell_type": "code",
   "execution_count": 35,
   "metadata": {},
   "outputs": [],
   "source": [
    "epochs = 60\n",
    "X_train_norm = X_train"
   ]
  },
  {
   "cell_type": "code",
   "execution_count": 37,
   "metadata": {},
   "outputs": [],
   "source": [
    "x = torch.FloatTensor(X_train_norm)\n",
    "y = torch.LongTensor(y_train)"
   ]
  },
  {
   "cell_type": "code",
   "execution_count": 38,
   "metadata": {},
   "outputs": [
    {
     "data": {
      "text/plain": [
       "Network(\n",
       "  (l1): Linear(in_features=784, out_features=1200, bias=True)\n",
       "  (bn1): BatchNorm1d(1200, eps=1e-05, momentum=0.1, affine=True, track_running_stats=True)\n",
       "  (relu1): LeakyReLU(negative_slope=0.01)\n",
       "  (drop1): Dropout(p=0.25, inplace=False)\n",
       "  (l2): Linear(in_features=1200, out_features=1200, bias=True)\n",
       "  (relu2): LeakyReLU(negative_slope=0.01)\n",
       "  (drop2): Dropout(p=0.5, inplace=False)\n",
       "  (l3): Linear(in_features=1200, out_features=1200, bias=True)\n",
       "  (relu3): LeakyReLU(negative_slope=0.01)\n",
       "  (drop3): Dropout(p=0.25, inplace=False)\n",
       "  (l4): Linear(in_features=1200, out_features=400, bias=True)\n",
       "  (relu4): LeakyReLU(negative_slope=0.01)\n",
       "  (drop4): Dropout(p=0.5, inplace=False)\n",
       "  (l5): Linear(in_features=400, out_features=100, bias=True)\n",
       "  (relu5): LeakyReLU(negative_slope=0.01)\n",
       "  (l6): Linear(in_features=100, out_features=10, bias=True)\n",
       ")"
      ]
     },
     "execution_count": 38,
     "metadata": {},
     "output_type": "execute_result"
    }
   ],
   "source": [
    "class Network(nn.Module):\n",
    "    \n",
    "    def __init__(self):\n",
    "        super(Network, self).__init__()\n",
    "        self.l1 = nn.Linear(input_size, hidden_sizes[0])\n",
    "        self.bn1 = nn.BatchNorm1d(num_features=hidden_sizes[0])\n",
    "        self.relu1 = nn.LeakyReLU()\n",
    "        self.drop1 = nn.Dropout(0.25)\n",
    "        self.l2 = nn.Linear(hidden_sizes[0], hidden_sizes[1])\n",
    "        self.relu2 = nn.LeakyReLU()\n",
    "        self.drop2 = nn.Dropout(0.5)\n",
    "        self.l3 = nn.Linear(hidden_sizes[1], hidden_sizes[2])\n",
    "        self.relu3 = nn.LeakyReLU()\n",
    "        self.drop3 = nn.Dropout(0.25)\n",
    "        self.l4 = nn.Linear(hidden_sizes[2], hidden_sizes[3])\n",
    "        self.relu4 = nn.LeakyReLU()\n",
    "        self.drop4 = nn.Dropout(0.5)\n",
    "        self.l5 = nn.Linear(hidden_sizes[3], hidden_sizes[4])\n",
    "        self.relu5 = nn.LeakyReLU()\n",
    "        self.l6 = nn.Linear(hidden_sizes[4], output_size)\n",
    "        \n",
    "    def forward(self, x):\n",
    "        x = F.relu(self.bn1(self.l1(x)))\n",
    "        x = self.relu1(x)\n",
    "        x = self.drop1(x)\n",
    "        x = self.l2(x)\n",
    "        x = self.relu2(x)\n",
    "        x = self.drop2(x)\n",
    "        x = self.l3(x)\n",
    "        x = self.relu3(x)\n",
    "        x = self.drop3(x)\n",
    "        x = self.l4(x)\n",
    "        x = self.relu4(x)\n",
    "        x = self.drop4(x)\n",
    "        x = self.l5(x)\n",
    "        x = self.relu5(x)\n",
    "        x = self.l6(x)\n",
    "        return F.log_softmax(x)\n",
    "\n",
    "net = Network()\n",
    "net.to(device)"
   ]
  },
  {
   "cell_type": "code",
   "execution_count": 39,
   "metadata": {},
   "outputs": [],
   "source": [
    "optimizer = optim.Adagrad(net.parameters(), lr=learning_rate)\n",
    "optimizer2 = optim.Adagrad(net.parameters(), lr=1e-4)\n",
    "optimizer3 = optim.Adagrad(net.parameters(), lr=1e-5)\n",
    "loss_func = nn.CrossEntropyLoss()"
   ]
  },
  {
   "cell_type": "markdown",
   "metadata": {},
   "source": [
    "### Задание 4.\n",
    "#### Воспользуйтесь динамически изменяемой скоростью обучения (learning rate). Наилучшая точность, достигнутая с помощью данной модели составляет 97.1%. Какую точность демонстрирует Ваша реализованная модель?"
   ]
  },
  {
   "cell_type": "code",
   "execution_count": 40,
   "metadata": {},
   "outputs": [],
   "source": [
    "learning_rate = 0.1\n",
    "optimizer = torch.optim.SGD(net.parameters(), lr=learning_rate, momentum=0.9, nesterov=True)"
   ]
  },
  {
   "cell_type": "code",
   "execution_count": 41,
   "metadata": {},
   "outputs": [],
   "source": [
    "from torch.optim.lr_scheduler import ReduceLROnPlateau, StepLR\n",
    "\n",
    "scheduler = ReduceLROnPlateau(optimizer, mode='max', factor=0.1, patience=0, verbose=True)"
   ]
  },
  {
   "cell_type": "code",
   "execution_count": 42,
   "metadata": {},
   "outputs": [
    {
     "name": "stderr",
     "output_type": "stream",
     "text": [
      "/home/a_stasiuk/anaconda3/lib/python3.7/site-packages/ipykernel_launcher.py:39: UserWarning: Implicit dimension choice for log_softmax has been deprecated. Change the call to include dim=X as an argument.\n"
     ]
    },
    {
     "name": "stdout",
     "output_type": "stream",
     "text": [
      "Epoch 0 completed\n",
      "Loss: 1.5088578462600708. Accuracy: 0.10493991989319092\n",
      "--------------------\n",
      "Epoch     5: reducing learning rate of group 0 to 1.0000e-02.\n",
      "Epoch     9: reducing learning rate of group 0 to 1.0000e-03.\n",
      "Epoch    12: reducing learning rate of group 0 to 1.0000e-04.\n",
      "Epoch    13: reducing learning rate of group 0 to 1.0000e-05.\n",
      "Epoch    14: reducing learning rate of group 0 to 1.0000e-06.\n",
      "Epoch    16: reducing learning rate of group 0 to 1.0000e-07.\n",
      "Epoch    17: reducing learning rate of group 0 to 1.0000e-08.\n",
      "Epoch 20 completed\n",
      "Loss: 0.18299183249473572. Accuracy: 0.9078771695594126\n",
      "--------------------\n",
      "Epoch 40 completed\n",
      "Loss: 0.16235029697418213. Accuracy: 0.9081441922563418\n",
      "--------------------\n"
     ]
    }
   ],
   "source": [
    "from sklearn.metrics import accuracy_score\n",
    "\n",
    "losses = []\n",
    "\n",
    "for e in range(epochs): \n",
    "        \n",
    "    for i in range(0, x.shape[0]-batch_size, batch_size):\n",
    "\n",
    "        x_mini = x[i:i + batch_size] \n",
    "        y_mini = y[i:i + batch_size]\n",
    "        \n",
    "        x_var, y_var = x_mini.to(device), y_mini.to(device)\n",
    "        \n",
    "        optimizer.zero_grad()\n",
    "        net_out = net(x_var)\n",
    "        \n",
    "        loss = loss_func(net_out, y_var)\n",
    "        loss.backward()\n",
    "        optimizer.step()\n",
    "        \n",
    "        if i % 500 == 0:\n",
    "            losses.append(loss.data)\n",
    "            \n",
    "            test = torch.FloatTensor(X_test)\n",
    "            test = (test - mu)/std\n",
    "            test_var = test.to(device)\n",
    "            \n",
    "            net_out = net(test_var)\n",
    "\n",
    "            max_value, max_index = torch.max(net_out, 1)\n",
    "\n",
    "            y_pred = max_index.tolist()\n",
    "            \n",
    "            \n",
    "            accuracy = accuracy_score(y_pred, y_test)\n",
    "            \n",
    "    if e % 20 == 0:\n",
    "        print('Epoch {} completed'.format(e))\n",
    "        print('Loss: {}. Accuracy: {}'.format(loss.item(), accuracy))\n",
    "        print('-'*20)\n",
    "    scheduler.step(accuracy)"
   ]
  },
  {
   "cell_type": "code",
   "execution_count": 43,
   "metadata": {},
   "outputs": [
    {
     "data": {
      "text/plain": [
       "[<matplotlib.lines.Line2D at 0x7f8be102d4e0>]"
      ]
     },
     "execution_count": 43,
     "metadata": {},
     "output_type": "execute_result"
    },
    {
     "data": {
      "image/png": "[encoded data removed]",
      "text/plain": [
       "<Figure size 720x576 with 1 Axes>"
      ]
     },
     "metadata": {
      "needs_background": "light"
     },
     "output_type": "display_data"
    }
   ],
   "source": [
    "plt.figure(figsize=(10,8))\n",
    "plt.plot(losses)"
   ]
  },
  {
   "cell_type": "code",
   "execution_count": 44,
   "metadata": {},
   "outputs": [
    {
     "data": {
      "text/plain": [
       "Network(\n",
       "  (l1): Linear(in_features=784, out_features=1200, bias=True)\n",
       "  (bn1): BatchNorm1d(1200, eps=1e-05, momentum=0.1, affine=True, track_running_stats=True)\n",
       "  (relu1): LeakyReLU(negative_slope=0.01)\n",
       "  (drop1): Dropout(p=0.25, inplace=False)\n",
       "  (l2): Linear(in_features=1200, out_features=1200, bias=True)\n",
       "  (relu2): LeakyReLU(negative_slope=0.01)\n",
       "  (drop2): Dropout(p=0.5, inplace=False)\n",
       "  (l3): Linear(in_features=1200, out_features=1200, bias=True)\n",
       "  (relu3): LeakyReLU(negative_slope=0.01)\n",
       "  (drop3): Dropout(p=0.25, inplace=False)\n",
       "  (l4): Linear(in_features=1200, out_features=400, bias=True)\n",
       "  (relu4): LeakyReLU(negative_slope=0.01)\n",
       "  (drop4): Dropout(p=0.5, inplace=False)\n",
       "  (l5): Linear(in_features=400, out_features=100, bias=True)\n",
       "  (relu5): LeakyReLU(negative_slope=0.01)\n",
       "  (l6): Linear(in_features=100, out_features=10, bias=True)\n",
       ")"
      ]
     },
     "execution_count": 44,
     "metadata": {},
     "output_type": "execute_result"
    }
   ],
   "source": [
    "net.eval()"
   ]
  },
  {
   "cell_type": "code",
   "execution_count": 45,
   "metadata": {},
   "outputs": [],
   "source": [
    "test = torch.FloatTensor(X_test)\n",
    "test_var = test.to(device)\n",
    "net_out = net(test_var)\n",
    "max_value, max_index = torch.max(net_out, 1)\n",
    "y_pred = max_index.tolist()"
   ]
  },
  {
   "cell_type": "code",
   "execution_count": 47,
   "metadata": {},
   "outputs": [
    {
     "data": {
      "text/plain": [
       "0.916154873164219"
      ]
     },
     "execution_count": 47,
     "metadata": {},
     "output_type": "execute_result"
    }
   ],
   "source": [
    "from sklearn.metrics import accuracy_score\n",
    "test_score = accuracy_score(y_pred, y_test)\n",
    "test_score"
   ]
  },
  {
   "cell_type": "code",
   "execution_count": null,
   "metadata": {},
   "outputs": [],
   "source": []
  }
 ],
 "metadata": {
  "kernelspec": {
   "display_name": "Python (bsuir_ml_part2)",
   "language": "python",
   "name": "bsuir_ml_part2"
  },
  "language_info": {
   "codemirror_mode": {
    "name": "ipython",
    "version": 3
   },
   "file_extension": ".py",
   "mimetype": "text/x-python",
   "name": "python",
   "nbconvert_exporter": "python",
   "pygments_lexer": "ipython3",
   "version": "3.7.3"
  }
 },
 "nbformat": 4,
 "nbformat_minor": 2
}