{
 "nbformat": 4,
 "nbformat_minor": 0,
 "metadata": {
  "accelerator": "GPU",
  "colab": {
   "name": "assignment7.ipynb",
   "provenance": [],
   "collapsed_sections": []
  },
  "kernelspec": {
   "display_name": "PyCharm (deep-learning-course)",
   "language": "python",
   "name": "pycharm-28839228"
  },
  "language_info": {
   "codemirror_mode": {
    "name": "ipython",
    "version": 3
   },
   "file_extension": ".py",
   "mimetype": "text/x-python",
   "name": "python",
   "nbconvert_exporter": "python",
   "pygments_lexer": "ipython3",
   "version": "3.7.4"
  }
 },
 "cells": [
  {
   "cell_type": "code",
   "metadata": {
    "id": "Lh9GeLHrzVG3",
    "colab_type": "code",
    "colab": {}
   },
   "source": [
    "import os\n",
    "import json\n",
    "import numpy as np\n",
    "import pandas as pd\n",
    "import tensorflow as tf\n",
    "from keras.layers import Embedding, Dense\n",
    "from keras.preprocessing.text import Tokenizer\n",
    "from keras.preprocessing.sequence import pad_sequences\n",
    "from keras.models import load_model\n",
    "from google.colab import drive\n",
    "\n",
    "drive.mount('/content/drive')"
   ],
   "execution_count": 0,
   "outputs": []
  },
  {
   "cell_type": "markdown",
   "metadata": {
    "id": "8pZaUukU0lR4",
    "colab_type": "text"
   },
   "source": [
    "#### Задание 1. Загрузите данные. Преобразуйте текстовые файлы во внутренние структуры данных, которые используют индексы вместо слов.\n"
   ]
  },
  {
   "cell_type": "code",
   "metadata": {
    "id": "dofw7sIM2UTy",
    "colab_type": "code",
    "colab": {}
   },
   "source": [
    "data_dir = '/content/drive/My Drive/data/a7/'\n",
    "imdb_data=pd.read_csv(data_dir + 'IMDB Dataset.csv')"
   ],
   "execution_count": 0,
   "outputs": []
  },
  {
   "cell_type": "code",
   "execution_count": null,
   "outputs": [],
   "source": [
    "imdb_data.shape"
   ],
   "metadata": {
    "collapsed": false,
    "pycharm": {
     "name": "#%%\n"
    }
   }
  },
  {
   "cell_type": "code",
   "metadata": {
    "id": "pNp2gMc12hHQ",
    "colab_type": "code",
    "outputId": "442e8dfd-fa55-4853-ef21-8757145f7247",
    "colab": {
     "base_uri": "https://localhost:8080/",
     "height": 347
    }
   },
   "source": [
    "imdb_data.head(10)"
   ],
   "execution_count": 161,
   "outputs": [
    {
     "output_type": "execute_result",
     "data": {
      "text/html": [
       "<div>\n",
       "<style scoped>\n",
       "    .dataframe tbody tr th:only-of-type {\n",
       "        vertical-align: middle;\n",
       "    }\n",
       "\n",
       "    .dataframe tbody tr th {\n",
       "        vertical-align: top;\n",
       "    }\n",
       "\n",
       "    .dataframe thead th {\n",
       "        text-align: right;\n",
       "    }\n",
       "</style>\n",
       "<table border=\"1\" class=\"dataframe\">\n",
       "  <thead>\n",
       "    <tr style=\"text-align: right;\">\n",
       "      <th></th>\n",
       "      <th>review</th>\n",
       "      <th>sentiment</th>\n",
       "    </tr>\n",
       "  </thead>\n",
       "  <tbody>\n",
       "    <tr>\n",
       "      <th>0</th>\n",
       "      <td>One of the other reviewers has mentioned that ...</td>\n",
       "      <td>positive</td>\n",
       "    </tr>\n",
       "    <tr>\n",
       "      <th>1</th>\n",
       "      <td>A wonderful little production. &lt;br /&gt;&lt;br /&gt;The...</td>\n",
       "      <td>positive</td>\n",
       "    </tr>\n",
       "    <tr>\n",
       "      <th>2</th>\n",
       "      <td>I thought this was a wonderful way to spend ti...</td>\n",
       "      <td>positive</td>\n",
       "    </tr>\n",
       "    <tr>\n",
       "      <th>3</th>\n",
       "      <td>Basically there's a family where a little boy ...</td>\n",
       "      <td>negative</td>\n",
       "    </tr>\n",
       "    <tr>\n",
       "      <th>4</th>\n",
       "      <td>Petter Mattei's \"Love in the Time of Money\" is...</td>\n",
       "      <td>positive</td>\n",
       "    </tr>\n",
       "    <tr>\n",
       "      <th>5</th>\n",
       "      <td>Probably my all-time favorite movie, a story o...</td>\n",
       "      <td>positive</td>\n",
       "    </tr>\n",
       "    <tr>\n",
       "      <th>6</th>\n",
       "      <td>I sure would like to see a resurrection of a u...</td>\n",
       "      <td>positive</td>\n",
       "    </tr>\n",
       "    <tr>\n",
       "      <th>7</th>\n",
       "      <td>This show was an amazing, fresh &amp; innovative i...</td>\n",
       "      <td>negative</td>\n",
       "    </tr>\n",
       "    <tr>\n",
       "      <th>8</th>\n",
       "      <td>Encouraged by the positive comments about this...</td>\n",
       "      <td>negative</td>\n",
       "    </tr>\n",
       "    <tr>\n",
       "      <th>9</th>\n",
       "      <td>If you like original gut wrenching laughter yo...</td>\n",
       "      <td>positive</td>\n",
       "    </tr>\n",
       "  </tbody>\n",
       "</table>\n",
       "</div>"
      ],
      "text/plain": [
       "                                              review sentiment\n",
       "0  One of the other reviewers has mentioned that ...  positive\n",
       "1  A wonderful little production. <br /><br />The...  positive\n",
       "2  I thought this was a wonderful way to spend ti...  positive\n",
       "3  Basically there's a family where a little boy ...  negative\n",
       "4  Petter Mattei's \"Love in the Time of Money\" is...  positive\n",
       "5  Probably my all-time favorite movie, a story o...  positive\n",
       "6  I sure would like to see a resurrection of a u...  positive\n",
       "7  This show was an amazing, fresh & innovative i...  negative\n",
       "8  Encouraged by the positive comments about this...  negative\n",
       "9  If you like original gut wrenching laughter yo...  positive"
      ]
     },
     "metadata": {
      "tags": []
     },
     "execution_count": 161
    }
   ]
  },
  {
   "cell_type": "code",
   "metadata": {
    "id": "XD8Cz_Jq2ja-",
    "colab_type": "code",
    "outputId": "95f08a8b-fb17-416e-d079-5a8cd39725d3",
    "colab": {
     "base_uri": "https://localhost:8080/",
     "height": 167
    }
   },
   "source": [
    "imdb_data.describe()"
   ],
   "execution_count": 162,
   "outputs": [
    {
     "output_type": "execute_result",
     "data": {
      "text/html": [
       "<div>\n",
       "<style scoped>\n",
       "    .dataframe tbody tr th:only-of-type {\n",
       "        vertical-align: middle;\n",
       "    }\n",
       "\n",
       "    .dataframe tbody tr th {\n",
       "        vertical-align: top;\n",
       "    }\n",
       "\n",
       "    .dataframe thead th {\n",
       "        text-align: right;\n",
       "    }\n",
       "</style>\n",
       "<table border=\"1\" class=\"dataframe\">\n",
       "  <thead>\n",
       "    <tr style=\"text-align: right;\">\n",
       "      <th></th>\n",
       "      <th>review</th>\n",
       "      <th>sentiment</th>\n",
       "    </tr>\n",
       "  </thead>\n",
       "  <tbody>\n",
       "    <tr>\n",
       "      <th>count</th>\n",
       "      <td>50000</td>\n",
       "      <td>50000</td>\n",
       "    </tr>\n",
       "    <tr>\n",
       "      <th>unique</th>\n",
       "      <td>49582</td>\n",
       "      <td>2</td>\n",
       "    </tr>\n",
       "    <tr>\n",
       "      <th>top</th>\n",
       "      <td>Loved today's show!!! It was a variety and not...</td>\n",
       "      <td>positive</td>\n",
       "    </tr>\n",
       "    <tr>\n",
       "      <th>freq</th>\n",
       "      <td>5</td>\n",
       "      <td>25000</td>\n",
       "    </tr>\n",
       "  </tbody>\n",
       "</table>\n",
       "</div>"
      ],
      "text/plain": [
       "                                                   review sentiment\n",
       "count                                               50000     50000\n",
       "unique                                              49582         2\n",
       "top     Loved today's show!!! It was a variety and not...  positive\n",
       "freq                                                    5     25000"
      ]
     },
     "metadata": {
      "tags": []
     },
     "execution_count": 162
    }
   ]
  },
  {
   "cell_type": "code",
   "metadata": {
    "id": "ouBjvQarzWCy",
    "colab_type": "code",
    "colab": {}
   },
   "source": [
    "labels = list(np.where(imdb_data.sentiment == 'positive', 1, 0))\n",
    "texts = list(imdb_data.review)"
   ],
   "execution_count": 0,
   "outputs": []
  },
  {
   "cell_type": "code",
   "metadata": {
    "id": "G3qKx1zC6_F7",
    "colab_type": "code",
    "colab": {}
   },
   "source": [
    "review_length = 200\n",
    "training_samples = 40000\n",
    "validation_samples = 5000\n",
    "test_samples = 5000\n",
    "max_words = 20000\n",
    "batch_size = 64"
   ],
   "execution_count": 0,
   "outputs": []
  },
  {
   "cell_type": "code",
   "metadata": {
    "id": "O_d7drAX0DGj",
    "colab_type": "code",
    "colab": {}
   },
   "source": [
    "def tokenize_data(word_indexes=None):\n",
    "  tokenizer = Tokenizer(num_words=max_words)\n",
    "  tokenizer.fit_on_texts(texts)\n",
    "  sequences = tokenizer.texts_to_sequences(texts)\n",
    "  \n",
    "  if word_indexes:\n",
    "    tokenizer.word_index = word_indexes\n",
    "\n",
    "  word_index = tokenizer.word_index\n",
    "\n",
    "  print ('Found %s unique tokens.' % len(word_index))\n",
    "\n",
    "  return pad_sequences(sequences, maxlen=review_length)"
   ],
   "execution_count": 0,
   "outputs": []
  },
  {
   "cell_type": "code",
   "metadata": {
    "id": "o2e-FswLmBR7",
    "colab_type": "code",
    "colab": {
     "base_uri": "https://localhost:8080/",
     "height": 34
    },
    "outputId": "f4952c00-683e-4313-b447-27e0143381b4"
   },
   "source": [
    "data = tokenize_data()"
   ],
   "execution_count": 166,
   "outputs": [
    {
     "output_type": "stream",
     "text": [
      "Found 124252 unique tokens.\n"
     ],
     "name": "stdout"
    }
   ]
  },
  {
   "cell_type": "code",
   "metadata": {
    "id": "4fjrlJ-wo-w-",
    "colab_type": "code",
    "colab": {}
   },
   "source": [
    "labels = np.asarray(labels)\n",
    "indices = np.arange(data.shape[0])\n",
    "\n",
    "np.random.shuffle(indices)\n",
    "data = data[indices]\n",
    "labels = labels[indices]\n",
    "\n",
    "x_train = data[:training_samples]\n",
    "y_train = labels[:training_samples]\n",
    "\n",
    "x_val = data[training_samples: training_samples + validation_samples]\n",
    "y_val = labels[training_samples: training_samples + validation_samples]\n",
    "\n",
    "x_test = data[-test_samples:]\n",
    "y_test = labels[-test_samples:]"
   ],
   "execution_count": 0,
   "outputs": []
  },
  {
   "cell_type": "code",
   "metadata": {
    "id": "x71B1qa0kpmH",
    "colab_type": "code",
    "colab": {
     "base_uri": "https://localhost:8080/",
     "height": 141
    },
    "outputId": "efc9bf56-d5bf-4e60-b4ea-c39a7c3626a9"
   },
   "source": [
    "x_train"
   ],
   "execution_count": 168,
   "outputs": [
    {
     "output_type": "execute_result",
     "data": {
      "text/plain": [
       "array([[    0,     0,     0, ...,   409,     4,   614],\n",
       "       [ 4659,   443,    48, ...,    41,     4,   156],\n",
       "       [    0,     0,     0, ..., 10609,   723,   156],\n",
       "       ...,\n",
       "       [    0,     0,     0, ...,  4594, 14313,    15],\n",
       "       [ 3987,   639,    16, ...,   443, 10851, 10228],\n",
       "       [    0,     0,     0, ...,  3947,   541,  1138]], dtype=int32)"
      ]
     },
     "metadata": {
      "tags": []
     },
     "execution_count": 168
    }
   ]
  },
  {
   "cell_type": "code",
   "metadata": {
    "id": "2U0qvRPr37f7",
    "colab_type": "code",
    "outputId": "cda454aa-0795-4894-f8bd-862a8d0955d0",
    "colab": {
     "base_uri": "https://localhost:8080/",
     "height": 425
    }
   },
   "source": [
    "x_train[0]"
   ],
   "execution_count": 171,
   "outputs": [
    {
     "output_type": "execute_result",
     "data": {
      "text/plain": [
       "array([    0,     0,     0,     0,     0,     0,     0,     0,     0,\n",
       "           0,     0,     0,     0,     0,     0,     0,     0,     0,\n",
       "           0,     0,     0,     0,     0,     0,     0,     0,     0,\n",
       "           0,     0,     0,     0,     0,     0,     0,     0,     0,\n",
       "           0,     0,     0,     0,     0,     0,     0,     0,    15,\n",
       "         105,     4,     1,  1537,  5047,     1,    17,    13,   372,\n",
       "         714, 13325,     9,     2,   110,   189,    99,   126,   451,\n",
       "           4,    55,     2,   451,     4,   290,  9526, 14885,     6,\n",
       "         138,     3,    78,   563,    10,   190,    12,    59,    58,\n",
       "          26,    34,    78,     8,     1,   202,     1,  5584,    70,\n",
       "          34,    78,    18,    33,    61,  1202,     1,   116,   516,\n",
       "           4,     1,    17,    56,   658,    57,   190,    12,    15,\n",
       "           3,  2165,   493,     9,  2034,    48,     6,    53,    16,\n",
       "          12,    17,    13,    52,   561,   348,    10,    80,    21,\n",
       "         377,     9,     5,   250,    30,    11,    55,    10,    58,\n",
       "          37,    56,   290,   141,    15,    11,    27,  9130,    36,\n",
       "         176,   133,     8,  8753,  1222,    18,    54,  1222,    35,\n",
       "         124,    11,   242,     4,   364,   517,     5,    94,    83,\n",
       "         101,    12,    22,    23,  2792,    10,   190,    12,     9,\n",
       "          13,   166,     5,    26,    34,   152,    10,    25,    66,\n",
       "          56,   199,   466,     2,    10,    25,  1635,   400,    25,\n",
       "         466,     9,    98,    25,    75,    51,   341,     1,   409,\n",
       "           4,   614], dtype=int32)"
      ]
     },
     "metadata": {
      "tags": []
     },
     "execution_count": 171
    }
   ]
  },
  {
   "cell_type": "markdown",
   "metadata": {
    "id": "GCmjPgqA5Dh0",
    "colab_type": "text"
   },
   "source": [
    "#### Задание 2. Реализуйте и обучите двунаправленную рекуррентную сеть (LSTM или GRU). Какого качества классификации удалось достичь?\n"
   ]
  },
  {
   "cell_type": "code",
   "metadata": {
    "id": "Arzi92cC5KDM",
    "colab_type": "code",
    "colab": {}
   },
   "source": [
    "model = tf.keras.models.Sequential()\n",
    "model.add(tf.keras.layers.Embedding(max_words, 128, input_length=review_length))\n",
    "model.add(tf.keras.layers.Bidirectional(tf.keras.layers.LSTM(64)))\n",
    "model.add(tf.keras.layers.Dropout(0.5))\n",
    "model.add(tf.keras.layers.Dense(1, activation='sigmoid'))\n"
   ],
   "execution_count": 0,
   "outputs": []
  },
  {
   "cell_type": "code",
   "metadata": {
    "id": "ieG7n5A35hM9",
    "colab_type": "code",
    "colab": {}
   },
   "source": [
    "model.compile('adam', 'binary_crossentropy', metrics=['accuracy'])"
   ],
   "execution_count": 0,
   "outputs": []
  },
  {
   "cell_type": "code",
   "metadata": {
    "id": "P60oVeBP5iwN",
    "colab_type": "code",
    "colab": {}
   },
   "source": [
    "model.fit(x_train, y_train,\n",
    "          batch_size=batch_size,\n",
    "          epochs=1,\n",
    "         validation_data=[x_val, y_val])"
   ],
   "execution_count": 0,
   "outputs": []
  },
  {
   "cell_type": "code",
   "metadata": {
    "id": "uiKeKFT1BJWw",
    "colab_type": "code",
    "outputId": "44e9576c-b724-49a9-d988-c79ff915b2bc",
    "colab": {
     "base_uri": "https://localhost:8080/",
     "height": 52
    }
   },
   "source": [
    "score, acc = model.evaluate(x_test, y_test)\n",
    "print(\"Model accuracy:\", acc)"
   ],
   "execution_count": 0,
   "outputs": [
    {
     "output_type": "stream",
     "text": [
      "5000/5000 [==============================] - 23s 5ms/sample - loss: 0.2702 - acc: 0.8932\n",
      "Model accuracy: 0.8932\n"
     ],
     "name": "stdout"
    }
   ]
  },
  {
   "cell_type": "markdown",
   "metadata": {
    "id": "0-WjaR0y_kQ8",
    "colab_type": "text"
   },
   "source": [
    "#### Задание 3. Используйте индексы слов и их различное внутреннее представление (word2vec, glove). Как влияет данное преобразование на качество классификации?\n"
   ]
  },
  {
   "cell_type": "code",
   "metadata": {
    "colab_type": "code",
    "id": "OSRPPUKlWYrr",
    "colab": {}
   },
   "source": [
    "embedding_dim = 100\n",
    "\n",
    "embeddings_index = {}\n",
    "f = open(os.path.join(data_dir, 'glove.6B.'+str(embedding_dim)+'d.txt'), encoding='utf-8')\n",
    "for line in f:\n",
    "    values = line.split()\n",
    "    word = values[0]\n",
    "    coefs = np.asarray(values[1:], dtype='float32')\n",
    "    embeddings_index[word] = coefs\n",
    "f.close()\n",
    "print('Word vectors: %s' % len(embeddings_index))\n",
    "print('Embedding size: %s'% embedding_dim)\n",
    "\n",
    "embedding_matrix = np.zeros((max_words, embedding_dim))\n",
    "for word, i in word_index.items():\n",
    "    if i < max_words:\n",
    "        embedding_vector = embeddings_index.get(word)\n",
    "        if embedding_vector is not None:\n",
    "            embedding_matrix[i] = embedding_vector"
   ],
   "execution_count": 0,
   "outputs": []
  },
  {
   "cell_type": "code",
   "metadata": {
    "id": "CJHYGFqKfUYZ",
    "colab_type": "code",
    "colab": {}
   },
   "source": [
    "model = tf.keras.models.Sequential()\n",
    "model.add(tf.keras.layers.Embedding(max_words, embedding_dim, input_length=review_length))\n",
    "model.add(tf.keras.layers.Bidirectional(tf.keras.layers.LSTM(64)))\n",
    "model.add(tf.keras.layers.Dropout(0.5))\n",
    "model.add(tf.keras.layers.Dense(1, activation='sigmoid'))\n",
    "model.layers[0].set_weights([embedding_matrix])\n",
    "model.layers[0].trainable = False"
   ],
   "execution_count": 0,
   "outputs": []
  },
  {
   "cell_type": "code",
   "metadata": {
    "id": "wYEYl_r0fppV",
    "colab_type": "code",
    "colab": {}
   },
   "source": [
    "model.compile('adam', 'binary_crossentropy', metrics=['accuracy'])"
   ],
   "execution_count": 0,
   "outputs": []
  },
  {
   "cell_type": "code",
   "metadata": {
    "id": "50JQ-zXdfuJV",
    "colab_type": "code",
    "outputId": "5c78deb0-2009-4100-d07d-cdb281e860bb",
    "colab": {
     "base_uri": "https://localhost:8080/",
     "height": 70
    }
   },
   "source": [
    "model.fit(x_train, y_train,\n",
    "          batch_size=batch_size,\n",
    "          epochs=1,\n",
    "          validation_data=[x_val, y_val])"
   ],
   "execution_count": 0,
   "outputs": [
    {
     "output_type": "stream",
     "text": [
      "Train on 40000 samples, validate on 5000 samples\n",
      "40000/40000 [==============================] - 476s 12ms/sample - loss: 0.3518 - acc: 0.8471 - val_loss: 0.3409 - val_acc: 0.8556\n"
     ],
     "name": "stdout"
    },
    {
     "output_type": "execute_result",
     "data": {
      "text/plain": [
       "<tensorflow.python.keras.callbacks.History at 0x7f648149ad68>"
      ]
     },
     "metadata": {
      "tags": []
     },
     "execution_count": 47
    }
   ]
  },
  {
   "cell_type": "code",
   "metadata": {
    "id": "Jewa6pEeh9j6",
    "colab_type": "code",
    "outputId": "c23d46a4-7028-4317-a928-4e0a372387c8",
    "colab": {
     "base_uri": "https://localhost:8080/",
     "height": 52
    }
   },
   "source": [
    "score, acc = model.evaluate(x_test, y_test)\n",
    "print(\"Model accuracy:\", acc)"
   ],
   "execution_count": 0,
   "outputs": [
    {
     "output_type": "stream",
     "text": [
      "5000/5000 [==============================] - 26s 5ms/sample - loss: 0.3333 - acc: 0.8640\n",
      "Model accuracy: 0.864\n"
     ],
     "name": "stdout"
    }
   ]
  },
  {
   "cell_type": "markdown",
   "metadata": {
    "id": "zJMjq9w_kqSx",
    "colab_type": "text"
   },
   "source": [
    "#### Задание 4. Поэкспериментируйте со структурой сети (добавьте больше рекуррентных, полносвязных или сверточных слоев). Как это повлияло на качество классификации?\n"
   ]
  },
  {
   "cell_type": "code",
   "metadata": {
    "id": "F4BQXvqLkwV9",
    "colab_type": "code",
    "outputId": "25403b55-710f-46d2-f94d-87d7ebedd82c",
    "colab": {
     "base_uri": "https://localhost:8080/",
     "height": 372
    }
   },
   "source": [
    "model = tf.keras.models.Sequential()\n",
    "model.add(tf.keras.layers.Embedding(max_words, embedding_dim, input_length=review_length))\n",
    "model.add(tf.keras.layers.Bidirectional(tf.keras.layers.LSTM(64)))\n",
    "model.add(tf.keras.layers.Dense(256, activation='relu'))\n",
    "model.add(tf.keras.layers.Dense(256, activation='relu'))\n",
    "model.add(tf.keras.layers.Dropout(0.5))\n",
    "model.add(tf.keras.layers.Dense(1, activation='sigmoid'))\n",
    "model.layers[0].set_weights([embedding_matrix])\n",
    "model.layers[0].trainable = False\n",
    "model.compile('adam', 'binary_crossentropy', metrics=['accuracy'])\n",
    "model.fit(x_train, y_train,\n",
    "          batch_size=batch_size,\n",
    "          epochs=1,\n",
    "          validation_data=[x_val, y_val])\n",
    "score, acc = model.evaluate(x_test, y_test)\n",
    "print(\"Model accuracy:\", acc)"
   ],
   "execution_count": 0,
   "outputs": [
    {
     "output_type": "stream",
     "text": [
      "Model: \"sequential_10\"\n",
      "_________________________________________________________________\n",
      "Layer (type)                 Output Shape              Param #   \n",
      "=================================================================\n",
      "embedding_5 (Embedding)      (None, 200, 100)          2000000   \n",
      "_________________________________________________________________\n",
      "bidirectional_11 (Bidirectio (None, 128)               84480     \n",
      "_________________________________________________________________\n",
      "dense_8 (Dense)              (None, 256)               33024     \n",
      "_________________________________________________________________\n",
      "dense_9 (Dense)              (None, 256)               65792     \n",
      "_________________________________________________________________\n",
      "dropout_8 (Dropout)          (None, 256)               0         \n",
      "_________________________________________________________________\n",
      "dense_10 (Dense)             (None, 1)                 257       \n",
      "=================================================================\n",
      "Total params: 2,183,553\n",
      "Trainable params: 2,183,553\n",
      "Non-trainable params: 0\n",
      "_________________________________________________________________\n"
     ],
     "name": "stdout"
    }
   ]
  },
  {
   "cell_type": "markdown",
   "metadata": {
    "id": "l0TN00DQpRrw",
    "colab_type": "text"
   },
   "source": [
    "#### Задание 5. Используйте предобученную рекуррентную нейронную сеть (например, DeepMoji или что-то подобное)."
   ]
  },
  {
   "cell_type": "code",
   "metadata": {
    "id": "tyG83afSnQ8N",
    "colab_type": "code",
    "colab": {}
   },
   "source": [
    "with open(data_dir + \"word-index.json\", \"r\") as file:\n",
    "  rnn_vocab = json.load(file)"
   ],
   "execution_count": 0,
   "outputs": []
  },
  {
   "cell_type": "code",
   "metadata": {
    "id": "IviM6bF2oVAW",
    "colab_type": "code",
    "colab": {
     "base_uri": "https://localhost:8080/",
     "height": 34
    },
    "outputId": "b65f3150-f1dc-4898-f46e-5e4c0a133636"
   },
   "source": [
    "rnn_data = tokenize_data(rnn_vocab)"
   ],
   "execution_count": 118,
   "outputs": [
    {
     "output_type": "stream",
     "text": [
      "Found 16191 unique tokens.\n"
     ],
     "name": "stdout"
    }
   ]
  },
  {
   "cell_type": "code",
   "metadata": {
    "id": "OF7NTdvZp6zR",
    "colab_type": "code",
    "colab": {}
   },
   "source": [
    "labels = np.asarray(labels)\n",
    "indices = np.arange(rnn_data.shape[0])\n",
    "\n",
    "np.random.shuffle(indices)\n",
    "rnn_data = rnn_data[indices]\n",
    "labels = labels[indices]\n",
    "\n",
    "x_train = rnn_data[:training_samples]\n",
    "y_train = labels[:training_samples]\n",
    "\n",
    "x_val = rnn_data[training_samples: training_samples + validation_samples]\n",
    "y_val = labels[training_samples: training_samples + validation_samples]\n",
    "\n",
    "x_test = rnn_data[-test_samples:]\n",
    "y_test = labels[-test_samples:]"
   ],
   "execution_count": 0,
   "outputs": []
  },
  {
   "cell_type": "code",
   "metadata": {
    "colab_type": "code",
    "outputId": "946cba60-b4d1-46a2-a9dc-f3d543f2e59d",
    "id": "TEJe6v2Bu44P",
    "colab": {
     "base_uri": "https://localhost:8080/",
     "height": 427
    }
   },
   "source": [
    "rnn_model = load_model(data_dir + 'train-embeddings-rnn-100-length.h5')\n",
    "\n",
    "rnn_model._layers.pop()\n",
    "rnn_model.add(Dense(1, activation='sigmoid'))\n",
    "\n",
    "for rnn_layer in rnn_model.layers:\n",
    "  rnn_layer.trainable = False\n",
    "\n",
    "rnn_model.layers[-1].trainable = True\n",
    "rnn_model.layers[-2].trainable = True\n",
    "\n",
    "rnn_model.compile('adam', 'binary_crossentropy', metrics=['accuracy'])\n",
    "rnn_model.fit(x_train, y_train,\n",
    "          batch_size=batch_size,\n",
    "          epochs=5,\n",
    "          validation_data=[x_val, y_val])"
   ],
   "execution_count": 152,
   "outputs": [
    {
     "output_type": "stream",
     "text": [
      "Model: \"sequential_5\"\n",
      "_________________________________________________________________\n",
      "Layer (type)                 Output Shape              Param #   \n",
      "=================================================================\n",
      "embedding_5 (Embedding)      (None, None, 100)         1619200   \n",
      "_________________________________________________________________\n",
      "lstm_6 (LSTM)                (None, 64)                42240     \n",
      "_________________________________________________________________\n",
      "dense_9 (Dense)              (None, 128)               8320      \n",
      "_________________________________________________________________\n",
      "dropout_5 (Dropout)          (None, 128)               0         \n",
      "_________________________________________________________________\n",
      "dense_10 (Dense)             (None, 16192)             2088768   \n",
      "_________________________________________________________________\n",
      "dense_12 (Dense)             (None, 1)                 16193     \n",
      "=================================================================\n",
      "Total params: 5,428,288\n",
      "Trainable params: 3,758,528\n",
      "Non-trainable params: 1,669,760\n",
      "_________________________________________________________________\n"
     ],
     "name": "stdout"
    },
    {
     "output_type": "stream",
     "text": [
      "/usr/local/lib/python3.6/dist-packages/keras/engine/training.py:493: UserWarning: Discrepancy between trainable weights and collected trainable weights, did you set `model.trainable` without calling `model.compile` after ?\n",
      "  sample_weight_mode: One of `None` or `\"temporal\"`.\n"
     ],
     "name": "stderr"
    }
   ]
  },
  {
   "cell_type": "code",
   "metadata": {
    "id": "e2smwY9Pp4TD",
    "colab_type": "code",
    "colab": {
     "base_uri": "https://localhost:8080/",
     "height": 52
    },
    "outputId": "a5e21501-009e-4b63-f471-14602e086dce",
    "pycharm": {
     "name": "#%%\n"
    }
   },
   "source": [
    "score, accuracy = rnn_model.evaluate(x_test, y_test)\n",
    "print(\"Model accuracy:\", accuracy)"
   ],
   "execution_count": 158,
   "outputs": [
    {
     "output_type": "stream",
     "text": [
      "5000/5000 [==============================] - 23s 5ms/sample - loss: 0.1934 - acc: 0.9231\n",
      "Model accuracy: 0.9231\n"
     ],
     "name": "stdout"
    }
   ]
  }
 ]
}